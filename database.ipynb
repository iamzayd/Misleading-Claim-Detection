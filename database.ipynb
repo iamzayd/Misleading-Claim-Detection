{
 "cells": [
  {
   "cell_type": "code",
   "execution_count": 47,
   "metadata": {},
   "outputs": [],
   "source": [
    "from deta import Deta  # pip install deta"
   ]
  },
  {
   "cell_type": "code",
   "execution_count": 48,
   "metadata": {},
   "outputs": [],
   "source": [
    "\n",
    "DETA_KEY = \"d0etwxhweqi_YW3jJ2NedR1C2mWrFSmEzW9ApXAnPDtG\"\n",
    "# Initialize with a project key\n",
    "deta = Deta(DETA_KEY)\n",
    "\n",
    "# This is how to create/connect a database\n",
    "db = deta.Base(\"Report\")"
   ]
  },
  {
   "cell_type": "code",
   "execution_count": 49,
   "metadata": {},
   "outputs": [],
   "source": [
    "\n",
    "def insert_record(C_Name, C_Link, C_Des):\n",
    "    \"\"\"Returns the report on a successful creation, otherwise raises an error\"\"\"\n",
    "    return db.put({\"C_Name\": C_Name, \"C_Link\": C_Link, \"C_Des\": C_Des})\n",
    "\n",
    "\n",
    "def fetch_all_records():\n",
    "    \"\"\"Returns a dict of all periods\"\"\"\n",
    "    res = db.fetch()\n",
    "    return res.items\n",
    "\n",
    "\n",
    "def get_C_Name(value):\n",
    "    \"\"\"Returns a record matching the provided C_Name.\"\"\"\n",
    "    records = db.fetch({\"C_Name\": value}).items\n",
    "    return next(records, None)"
   ]
  },
  {
   "cell_type": "code",
   "execution_count": 39,
   "metadata": {},
   "outputs": [],
   "source": [
    "# Example Data\n",
    "C_Name = \"Elon Musk\"\n",
    "C_Link = \"https://twitter.com\"\n",
    "C_Des = \"Changed their name to x is causing a lot indirect traffic to sites\""
   ]
  },
  {
   "cell_type": "code",
   "execution_count": 40,
   "metadata": {},
   "outputs": [
    {
     "data": {
      "text/plain": [
       "{'C_Des': 'Changed their name to x is causing a lot indirect traffic to sites',\n",
       " 'C_Link': 'https://twitter.com',\n",
       " 'C_Name': 'Elon Musk',\n",
       " 'key': 'xsjmlgf4egzn'}"
      ]
     },
     "execution_count": 40,
     "metadata": {},
     "output_type": "execute_result"
    }
   ],
   "source": [
    "insert_record(C_Name, C_Link, C_Des)"
   ]
  },
  {
   "cell_type": "code",
   "execution_count": 50,
   "metadata": {},
   "outputs": [
    {
     "data": {
      "text/plain": [
       "[{'C_Des': 'Changed their name to x is causing a lot indirect traffic to sites',\n",
       "  'C_Link': 'https://twitter.com',\n",
       "  'C_Name': 'Elon Musk',\n",
       "  'key': 'fxxjuxijvk4r'}]"
      ]
     },
     "execution_count": 50,
     "metadata": {},
     "output_type": "execute_result"
    }
   ],
   "source": [
    "\n",
    "fetch_all_records()"
   ]
  },
  {
   "cell_type": "code",
   "execution_count": 51,
   "metadata": {},
   "outputs": [],
   "source": [
    "\n",
    "a = get_C_Name(\"Elon Musk\")\n",
    "a"
   ]
  },
  {
   "cell_type": "code",
   "execution_count": 46,
   "metadata": {},
   "outputs": [
    {
     "data": {
      "text/plain": [
       "'d0etwxhweqi_YW3jJ2NedR1C2mWrFSmEzW9ApXAnPDtG'"
      ]
     },
     "execution_count": 46,
     "metadata": {},
     "output_type": "execute_result"
    }
   ],
   "source": [
    "import streamlit as st  # pip install streamlit\n",
    "from deta import Deta  # pip install deta\n",
    "import os\n",
    "\n",
    "from deta import Deta\n",
    "\n",
    "from dotenv import load_dotenv\n",
    "load_dotenv(r\"C:\\Users\\Najeeb\\Desktop\\SIT Semesters\\Sem 5\\Hackathon investors\\.env.txt\")\n",
    "\n",
    "# Load the environment variables\n",
    "DETA_KEY = os.getenv(\"DETA_KEY\")\n",
    "\n",
    "DETA_KEY"
   ]
  },
  {
   "cell_type": "code",
   "execution_count": null,
   "metadata": {},
   "outputs": [],
   "source": []
  },
  {
   "cell_type": "code",
   "execution_count": null,
   "metadata": {},
   "outputs": [],
   "source": []
  }
 ],
 "metadata": {
  "kernelspec": {
   "display_name": "Python 3",
   "language": "python",
   "name": "python3"
  },
  "language_info": {
   "codemirror_mode": {
    "name": "ipython",
    "version": 3
   },
   "file_extension": ".py",
   "mimetype": "text/x-python",
   "name": "python",
   "nbconvert_exporter": "python",
   "pygments_lexer": "ipython3",
   "version": "3.10.5"
  },
  "orig_nbformat": 4
 },
 "nbformat": 4,
 "nbformat_minor": 2
}
